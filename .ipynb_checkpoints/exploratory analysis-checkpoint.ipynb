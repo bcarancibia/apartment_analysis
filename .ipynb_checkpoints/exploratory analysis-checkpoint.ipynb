{
 "cells": [
  {
   "cell_type": "code",
   "execution_count": 2,
   "metadata": {
    "collapsed": false
   },
   "outputs": [
    {
     "name": "stdout",
     "output_type": "stream",
     "text": [
      "Populating the interactive namespace from numpy and matplotlib\n"
     ]
    }
   ],
   "source": [
    "import pandas as pd\n",
    "%pylab inline"
   ]
  },
  {
   "cell_type": "code",
   "execution_count": 3,
   "metadata": {
    "collapsed": true
   },
   "outputs": [],
   "source": [
    "import requests\n",
    "url_base = 'http://newyork.craigslist.org/search/brk/aap'\n",
    "params = dict(bedrooms=1)\n",
    "rsp = requests.get(url_base, params=params)"
   ]
  },
  {
   "cell_type": "code",
   "execution_count": 4,
   "metadata": {
    "collapsed": false
   },
   "outputs": [
    {
     "name": "stdout",
     "output_type": "stream",
     "text": [
      "http://newyork.craigslist.org/search/brk/aap?bedrooms=1\n",
      "<!DOCTYPE html>\n",
      "<html class=\"no-js\"><head>\n",
      "<title>new york all apartments - craigslist</title>\n",
      "<meta name=\"description\" content=\"new york all apartments  - craigslist\">\n",
      "<link rel=\"canonical\" href=\"https://newyork.craigslist.org/search/brk/aap\">\n",
      "<link rel=\"alternate\" type=\"application/rss+xml\" href=\"https://newyork.craigslist.org/search/brk/aap?bedrooms=1&amp;format=rss\" title=\"RSS feed for craigslist | new york all apartments  - craigslist \">\n",
      "<link rel=\"next\" href=\"https://newyork.craigslist.org\n",
      "<!DOCTYPE html>\n",
      "<html class=\"no-js\">\n",
      " <head>\n",
      "  <title>\n",
      "   new york all apartments - craigslist\n",
      "  </title>\n",
      "  <meta content=\"new york all apartments  - craigslist\" name=\"description\">\n",
      "   <link href=\"https://newyork.craigslist.org/search/brk/aap\" rel=\"canonical\">\n",
      "    <link href=\"https://newyork.craigslist.org/search/brk/aap?bedrooms=1&amp;format=rss\" rel=\"alternate\" title=\"RSS feed for craigslist | new york all apartments  - craigslist \" type=\"application/rss+xml\">\n",
      "     <link href=\"https://newyork.craigslist.org/search/brk/aap?s=100&amp;bedrooms=1\" rel=\"next\">\n",
      "      <meta content=\"initial-scale=1.0, user-scalable=1\" name=\"viewport\">\n",
      "       <link href=\"//www.craigslist.org/styles/cl.css?v=e9c681b3bb48e38d529f4ae46f48f20d\" media=\"all\" rel=\"stylesheet\" type=\"text/css\">\n",
      "        <link href=\"//www.craigslist.org/styles/search.css?v=576b61a183b36d85e5e38112f4cf54b4\" media=\"all\" rel=\"stylesheet\" type=\"text/css\">\n",
      "         <link href=\"//www.craigslist.org/styles/jquery-ui-clcustom.css?v=31607a98a2c\n"
     ]
    }
   ],
   "source": [
    "print(rsp.url)\n",
    "print(rsp.text[:500])\n",
    "\n",
    "from bs4 import BeautifulSoup as bs4\n",
    "\n",
    "# BS4 can quickly parse our text, make sure to tell it that you're giving html\n",
    "html = bs4(rsp.text, 'html.parser')\n",
    "\n",
    "# BS makes it easy to look through a document\n",
    "print(html.prettify()[:1000])"
   ]
  },
  {
   "cell_type": "code",
   "execution_count": 5,
   "metadata": {
    "collapsed": false
   },
   "outputs": [
    {
     "name": "stdout",
     "output_type": "stream",
     "text": [
      "100\n"
     ]
    }
   ],
   "source": [
    "apts = html.find_all('p', attrs={'class': 'row'})\n",
    "print(len(apts))"
   ]
  },
  {
   "cell_type": "code",
   "execution_count": 6,
   "metadata": {
    "collapsed": false
   },
   "outputs": [
    {
     "name": "stdout",
     "output_type": "stream",
     "text": [
      "<p class=\"row\" data-pid=\"5377371331\">\n",
      " <a class=\"i\" data-ids=\"0:00s0s_fpXoItB68NA,0:00w0w_eUCnjCitWVh,0:00202_e3U6A0wL94B,0:01717_hPg2agv5EWJ,0:00d0d_8pvCyHA2kY9,0:00d0d_9xfy9ZtALe9,0:00V0V_d1KpB3nOUwv,0:00y0y_7wLTTcMlD4h,0:00s0s_3X1fPdw3JfR,0:00808_fDIe5Hr8jK\" href=\"/brk/abo/5377371331.html\">\n",
      " </a>\n",
      " <span class=\"txt\">\n",
      "  <span class=\"star\">\n",
      "  </span>\n",
      "  <span class=\"pl\">\n",
      "   <time datetime=\"2015-12-28 10:19\" title=\"Mon 28 Dec 10:19:05 AM\">\n",
      "    Dec 28\n",
      "   </time>\n",
      "   <a class=\"hdrlnk\" data-id=\"5377371331\" href=\"/brk/abo/5377371331.html\">\n",
      "    Original detailed 4 bedroom 1.5 bath Great deal!\n",
      "   </a>\n",
      "  </span>\n",
      "  <span class=\"l2\">\n",
      "   <span class=\"price\">\n",
      "    $2599\n",
      "   </span>\n",
      "   <span class=\"housing\">\n",
      "    / 4br -\n",
      "   </span>\n",
      "   <span class=\"pnr\">\n",
      "    <small>\n",
      "     (Ocean Hill)\n",
      "    </small>\n",
      "    <span class=\"px\">\n",
      "     <span class=\"p\">\n",
      "      pic\n",
      "      <span class=\"maptag\" data-pid=\"5377371331\">\n",
      "       map\n",
      "      </span>\n",
      "     </span>\n",
      "    </span>\n",
      "   </span>\n",
      "  </span>\n",
      "  <span class=\"js-only banish-unbanish no-mobile\">\n",
      "   <span class=\"banish\" title=\"dismiss\">\n",
      "    [×]\n",
      "   </span>\n",
      "   <span class=\"unbanish\" title=\"allow\">\n",
      "    [undo]\n",
      "   </span>\n",
      "  </span>\n",
      " </span>\n",
      "</p>\n",
      "\n"
     ]
    }
   ],
   "source": [
    "this_appt = apts[15]\n",
    "print(this_appt.prettify())"
   ]
  },
  {
   "cell_type": "code",
   "execution_count": 7,
   "metadata": {
    "collapsed": false
   },
   "outputs": [
    {
     "name": "stdout",
     "output_type": "stream",
     "text": [
      "/ 4br - \n"
     ]
    }
   ],
   "source": [
    "size = this_appt.findAll(attrs={'class': 'housing'})[0].text\n",
    "print(size)"
   ]
  },
  {
   "cell_type": "code",
   "execution_count": 8,
   "metadata": {
    "collapsed": true
   },
   "outputs": [],
   "source": [
    "\n",
    "def find_size_and_brs(size):\n",
    "    split = size.strip('/- ').split(' - ')\n",
    "    if len(split) == 2:\n",
    "        n_brs = split[0].replace('br', '')\n",
    "        this_size = split[1].replace('ft2', '')\n",
    "    elif 'br' in split[0]:\n",
    "        # It's the n_bedrooms\n",
    "        n_brs = split[0].replace('br', '')\n",
    "        this_size = np.nan\n",
    "    elif 'ft2' in split[0]:\n",
    "        # It's the size\n",
    "        this_size = split[0].replace('ft2', '')\n",
    "        n_brs = np.nan\n",
    "    return float(this_size), float(n_brs)\n",
    "this_size, n_brs = find_size_and_brs(size)"
   ]
  },
  {
   "cell_type": "code",
   "execution_count": 9,
   "metadata": {
    "collapsed": false
   },
   "outputs": [
    {
     "name": "stdout",
     "output_type": "stream",
     "text": [
      "nan\n",
      "4.0\n",
      "2015-12-28 10:19:00\n",
      "2599.0\n",
      "Original detailed 4 bedroom 1.5 bath Great deal!\n"
     ]
    }
   ],
   "source": [
    "this_time = this_appt.find('time')['datetime']\n",
    "this_time = pd.to_datetime(this_time)\n",
    "this_price = float(this_appt.find('span', {'class': 'price'}).text.strip('$'))\n",
    "this_title = this_appt.find('a', attrs={'class': 'hdrlnk'}).text\n",
    "print('\\n'.join([str(i) for i in [this_size, n_brs, this_time, this_price, this_title]]))"
   ]
  },
  {
   "cell_type": "code",
   "execution_count": 10,
   "metadata": {
    "collapsed": true
   },
   "outputs": [],
   "source": [
    "loc_prefixes = ['brk', 'mnh', 'que']"
   ]
  },
  {
   "cell_type": "code",
   "execution_count": 11,
   "metadata": {
    "collapsed": true
   },
   "outputs": [],
   "source": [
    "def find_prices(results):\n",
    "    prices = []\n",
    "    for rw in results:\n",
    "        price = rw.find('span', {'class': 'price'})\n",
    "        if price is not None:\n",
    "            price = float(price.text.strip('$'))\n",
    "        else:\n",
    "            price = np.nan\n",
    "        prices.append(price)\n",
    "    return prices\n",
    "\n",
    "def find_times(results):\n",
    "    times = []\n",
    "    for rw in apts:\n",
    "        if time is not None:\n",
    "            time = time['datetime']\n",
    "            time = pd.to_datetime(time)\n",
    "        else:\n",
    "            time = np.nan\n",
    "        times.append(time)\n",
    "    return times"
   ]
  },
  {
   "cell_type": "code",
   "execution_count": 12,
   "metadata": {
    "collapsed": false
   },
   "outputs": [
    {
     "name": "stdout",
     "output_type": "stream",
     "text": [
      "brk\n",
      "mnh\n",
      "que\n"
     ]
    }
   ],
   "source": [
    "# Now loop through all of this and store the results\n",
    "results = []  # We'll store the data here\n",
    "# Careful with this...too many queries == your IP gets banned temporarily\n",
    "search_indices = np.arange(0, 300, 100)\n",
    "for loc in loc_prefixes:\n",
    "    print loc\n",
    "    for i in search_indices:\n",
    "        url = 'http://newyork.craigslist.org/search/{0}/aap'.format(loc)\n",
    "        resp = requests.get(url, params={'bedrooms': 1, 's': i})\n",
    "        txt = bs4(resp.text, 'html.parser')\n",
    "        apts = txt.findAll(attrs={'class': \"row\"})\n",
    "        \n",
    "        # Find the size of all entries\n",
    "        size_text = [rw.findAll(attrs={'class': 'housing'})[0].text\n",
    "                     for rw in apts]\n",
    "        sizes_brs = [find_size_and_brs(stxt) for stxt in size_text]\n",
    "        sizes, n_brs = zip(*sizes_brs)  # This unzips into 2 vectors\n",
    "     \n",
    "        # Find the title and link\n",
    "        title = [rw.find('a', attrs={'class': 'hdrlnk'}).text\n",
    "                      for rw in apts]\n",
    "        links = [rw.find('a', attrs={'class': 'hdrlnk'})['href']\n",
    "                 for rw in apts]\n",
    "        \n",
    "        # Find the time\n",
    "        time = [pd.to_datetime(rw.find('time')['datetime']) for rw in apts]\n",
    "        price = find_prices(apts)\n",
    "        \n",
    "        # We'll create a dataframe to store all the data\n",
    "        data = np.array([time, price, sizes, n_brs, title, links])\n",
    "        col_names = ['time', 'price', 'size', 'brs', 'title', 'link']\n",
    "        df = pd.DataFrame(data.T, columns=col_names)\n",
    "        df = df.set_index('time')\n",
    "        \n",
    "        # Add the location variable to all entries\n",
    "        df['loc'] = loc\n",
    "        results.append(df)\n",
    "        \n",
    "# Finally, concatenate all the results\n",
    "results = pd.concat(results, axis=0)"
   ]
  },
  {
   "cell_type": "code",
   "execution_count": 13,
   "metadata": {
    "collapsed": false
   },
   "outputs": [],
   "source": [
    "results[['price', 'size', 'brs']] = results[['price', 'size', 'brs']].convert_objects(convert_numeric=True)"
   ]
  },
  {
   "cell_type": "code",
   "execution_count": 14,
   "metadata": {
    "collapsed": false
   },
   "outputs": [
    {
     "data": {
      "text/html": [
       "<div style=\"max-height:1000px;max-width:1500px;overflow:auto;\">\n",
       "<table border=\"1\" class=\"dataframe\">\n",
       "  <thead>\n",
       "    <tr style=\"text-align: right;\">\n",
       "      <th></th>\n",
       "      <th>price</th>\n",
       "      <th>size</th>\n",
       "      <th>brs</th>\n",
       "      <th>title</th>\n",
       "      <th>link</th>\n",
       "      <th>loc</th>\n",
       "    </tr>\n",
       "    <tr>\n",
       "      <th>time</th>\n",
       "      <th></th>\n",
       "      <th></th>\n",
       "      <th></th>\n",
       "      <th></th>\n",
       "      <th></th>\n",
       "      <th></th>\n",
       "    </tr>\n",
       "  </thead>\n",
       "  <tbody>\n",
       "    <tr>\n",
       "      <th>2015-12-28 10:26:00</th>\n",
       "      <td> 5908</td>\n",
       "      <td>  NaN</td>\n",
       "      <td> 3</td>\n",
       "      <td> Luxury 3Bed2Bath | Prime Wburg | Bedford L | W...</td>\n",
       "      <td> /brk/nfb/5377483619.html</td>\n",
       "      <td> brk</td>\n",
       "    </tr>\n",
       "    <tr>\n",
       "      <th>2015-12-28 10:25:00</th>\n",
       "      <td> 1999</td>\n",
       "      <td> 1300</td>\n",
       "      <td> 3</td>\n",
       "      <td> HANCOCK ST &amp;IRVING; AVE* MODERN 3BR LOFT*EXPOS...</td>\n",
       "      <td> /brk/abo/5377355923.html</td>\n",
       "      <td> brk</td>\n",
       "    </tr>\n",
       "    <tr>\n",
       "      <th>2015-12-28 10:25:00</th>\n",
       "      <td> 3208</td>\n",
       "      <td>  NaN</td>\n",
       "      <td> 4</td>\n",
       "      <td> No Fee_Bushwick_New Construction_Massive 3 Bed...</td>\n",
       "      <td> /brk/abo/5377393976.html</td>\n",
       "      <td> brk</td>\n",
       "    </tr>\n",
       "    <tr>\n",
       "      <th>2015-12-28 10:24:00</th>\n",
       "      <td> 1865</td>\n",
       "      <td>  NaN</td>\n",
       "      <td> 1</td>\n",
       "      <td> Enormous 1 bedroom 1 bathroom w WasherDryer, L...</td>\n",
       "      <td> /brk/abo/5377387758.html</td>\n",
       "      <td> brk</td>\n",
       "    </tr>\n",
       "    <tr>\n",
       "      <th>2015-12-28 10:24:00</th>\n",
       "      <td> 2499</td>\n",
       "      <td>  NaN</td>\n",
       "      <td> 3</td>\n",
       "      <td> MUST SEE ~ LOVELY 2.5BR + BACKYARD ~ ~ SS APPL...</td>\n",
       "      <td> /brk/abo/5365717494.html</td>\n",
       "      <td> brk</td>\n",
       "    </tr>\n",
       "  </tbody>\n",
       "</table>\n",
       "</div>"
      ],
      "text/plain": [
       "                     price  size  brs  \\\n",
       "time                                    \n",
       "2015-12-28 10:26:00   5908   NaN    3   \n",
       "2015-12-28 10:25:00   1999  1300    3   \n",
       "2015-12-28 10:25:00   3208   NaN    4   \n",
       "2015-12-28 10:24:00   1865   NaN    1   \n",
       "2015-12-28 10:24:00   2499   NaN    3   \n",
       "\n",
       "                                                                 title  \\\n",
       "time                                                                     \n",
       "2015-12-28 10:26:00  Luxury 3Bed2Bath | Prime Wburg | Bedford L | W...   \n",
       "2015-12-28 10:25:00  HANCOCK ST &IRVING; AVE* MODERN 3BR LOFT*EXPOS...   \n",
       "2015-12-28 10:25:00  No Fee_Bushwick_New Construction_Massive 3 Bed...   \n",
       "2015-12-28 10:24:00  Enormous 1 bedroom 1 bathroom w WasherDryer, L...   \n",
       "2015-12-28 10:24:00  MUST SEE ~ LOVELY 2.5BR + BACKYARD ~ ~ SS APPL...   \n",
       "\n",
       "                                         link  loc  \n",
       "time                                                \n",
       "2015-12-28 10:26:00  /brk/nfb/5377483619.html  brk  \n",
       "2015-12-28 10:25:00  /brk/abo/5377355923.html  brk  \n",
       "2015-12-28 10:25:00  /brk/abo/5377393976.html  brk  \n",
       "2015-12-28 10:24:00  /brk/abo/5377387758.html  brk  \n",
       "2015-12-28 10:24:00  /brk/abo/5365717494.html  brk  "
      ]
     },
     "execution_count": 14,
     "metadata": {},
     "output_type": "execute_result"
    }
   ],
   "source": [
    "results.head()"
   ]
  },
  {
   "cell_type": "code",
   "execution_count": 15,
   "metadata": {
    "collapsed": false
   },
   "outputs": [
    {
     "data": {
      "text/plain": [
       "<matplotlib.text.Text at 0x10b0b7550>"
      ]
     },
     "execution_count": 15,
     "metadata": {},
     "output_type": "execute_result"
    },
    {
     "data": {
      "image/png": "[encoded data removed]",
      "text/plain": [
       "<matplotlib.figure.Figure at 0x10a5d6150>"
      ]
     },
     "metadata": {},
     "output_type": "display_data"
    }
   ],
   "source": [
    "ax = results.hist('price', bins=np.arange(0, 10000, 100))[0, 0]\n",
    "ax.set_title('New York Housing', fontsize=20)\n",
    "ax.set_xlabel('Price', fontsize=18)\n",
    "ax.set_ylabel('Count', fontsize=18)"
   ]
  },
  {
   "cell_type": "code",
   "execution_count": 17,
   "metadata": {
    "collapsed": false
   },
   "outputs": [],
   "source": [
    "import string\n",
    "use_chars = string.ascii_letters +\\\n",
    "    ''.join([str(i) for i in range(10)]) +\\\n",
    "    ' /\\.'\n",
    "results['title'] = results['title'].apply(\n",
    "    lambda a: ''.join([i for i in a if i in use_chars]))\n",
    "\n",
    "results.to_csv('craigslist_results.csv')"
   ]
  },
  {
   "cell_type": "code",
   "execution_count": null,
   "metadata": {
    "collapsed": true
   },
   "outputs": [],
   "source": []
  }
 ],
 "metadata": {
  "kernelspec": {
   "display_name": "Python 2",
   "language": "python",
   "name": "python2"
  },
  "language_info": {
   "codemirror_mode": {
    "name": "ipython",
    "version": 2
   },
   "file_extension": ".py",
   "mimetype": "text/x-python",
   "name": "python",
   "nbconvert_exporter": "python",
   "pygments_lexer": "ipython2",
   "version": "2.7.8"
  }
 },
 "nbformat": 4,
 "nbformat_minor": 0
}
